{
 "cells": [
  {
   "cell_type": "markdown",
   "metadata": {},
   "source": [
    "# LSTM Model Implentation"
   ]
  },
  {
   "cell_type": "code",
   "execution_count": 2,
   "metadata": {},
   "outputs": [],
   "source": [
    "\"\"\"\n",
    "%pip install keras\n",
    "%pip install tensorflow\n",
    "%pip install seaborn\n",
    "%pip install openpyxl\n",
    "\n",
    "%pip install plotly\"\"\" "
   ]
  },
  {
   "cell_type": "markdown",
   "metadata": {},
   "source": [
    "Sequential: A linear stack of layers.\n",
    "Dense: A fully connected layer.\n",
    "Flatten: Converts multi-dimensional input into a single-dimensional array."
   ]
  },
  {
   "cell_type": "code",
   "execution_count": null,
   "metadata": {},
   "outputs": [
    {
     "ename": "ModuleNotFoundError",
     "evalue": "No module named 'plotly'",
     "output_type": "error",
     "traceback": [
      "\u001b[1;31m---------------------------------------------------------------------------\u001b[0m",
      "\u001b[1;31mModuleNotFoundError\u001b[0m                       Traceback (most recent call last)",
      "Cell \u001b[1;32mIn[1], line 8\u001b[0m\n\u001b[0;32m      6\u001b[0m \u001b[38;5;28;01mimport\u001b[39;00m \u001b[38;5;21;01msklearn\u001b[39;00m\n\u001b[0;32m      7\u001b[0m \u001b[38;5;28;01mfrom\u001b[39;00m \u001b[38;5;21;01mtensorflow\u001b[39;00m\u001b[38;5;21;01m.\u001b[39;00m\u001b[38;5;21;01mkeras\u001b[39;00m\u001b[38;5;21;01m.\u001b[39;00m\u001b[38;5;21;01mlayers\u001b[39;00m \u001b[38;5;28;01mimport\u001b[39;00m LSTM\n\u001b[1;32m----> 8\u001b[0m \u001b[38;5;28;01mimport\u001b[39;00m \u001b[38;5;21;01mplotly\u001b[39;00m\u001b[38;5;21;01m.\u001b[39;00m\u001b[38;5;21;01mexpress\u001b[39;00m \u001b[38;5;28;01mas\u001b[39;00m \u001b[38;5;21;01mpx\u001b[39;00m\n",
      "\u001b[1;31mModuleNotFoundError\u001b[0m: No module named 'plotly'"
     ]
    }
   ],
   "source": [
    "import matplotlib.pyplot as plt\n",
    "import numpy\n",
    "import pandas as pd\n",
    "import matplotlib.pyplot as plt\n",
    "import seaborn as sns\n",
    "import sklearn\n",
    "import plotly.express as px\n"
   ]
  },
  {
   "cell_type": "code",
   "execution_count": 3,
   "metadata": {},
   "outputs": [],
   "source": [
    "def prepare_data(timeseries_data, n_features):\n",
    "\tX, y =[],[]\n",
    "\tfor i in range(len(timeseries_data)):\n",
    "\t\t# find the end of this pattern\n",
    "\t\tend_ix = i + n_features\n",
    "\t\t# check if we are beyond the sequence\n",
    "\t\tif end_ix > len(timeseries_data)-1:\n",
    "\t\t\tbreak\n",
    "\t\t# gather input and output parts of the pattern\n",
    "\t\tseq_x, seq_y = timeseries_data[i:end_ix], timeseries_data[end_ix]\n",
    "\t\tX.append(seq_x)\n",
    "\t\ty.append(seq_y)\n",
    "\treturn np.array(X), np.array(y)"
   ]
  },
  {
   "cell_type": "code",
   "execution_count": 5,
   "metadata": {},
   "outputs": [],
   "source": [
    "air_quailty = pd.read_csv(\"C:\\\\Users\\\\rushabh nakum\\\\Desktop\\\\Minor Project 7 sem\\\\data\\\\final_data.csv\")"
   ]
  },
  {
   "cell_type": "markdown",
   "metadata": {},
   "source": [
    "# Data preprocessing "
   ]
  },
  {
   "cell_type": "code",
   "execution_count": 10,
   "metadata": {},
   "outputs": [
    {
     "name": "stdout",
     "output_type": "stream",
     "text": [
      "<class 'pandas.core.frame.DataFrame'>\n",
      "RangeIndex: 135513 entries, 0 to 135512\n",
      "Data columns (total 16 columns):\n",
      " #   Column      Non-Null Count   Dtype  \n",
      "---  ------      --------------   -----  \n",
      " 0   City        135513 non-null  object \n",
      " 1   Date        135513 non-null  object \n",
      " 2   PM2.5       135513 non-null  float64\n",
      " 3   PM10        135513 non-null  float64\n",
      " 4   NO          135513 non-null  float64\n",
      " 5   NO2         135513 non-null  float64\n",
      " 6   NOx         135513 non-null  float64\n",
      " 7   NH3         135513 non-null  float64\n",
      " 8   CO          135513 non-null  float64\n",
      " 9   SO2         135513 non-null  float64\n",
      " 10  O3          135513 non-null  float64\n",
      " 11  Benzene     135513 non-null  float64\n",
      " 12  Toluene     135513 non-null  float64\n",
      " 13  Xylene      135513 non-null  float64\n",
      " 14  AQI         135513 non-null  float64\n",
      " 15  AQI_Bucket  135513 non-null  object \n",
      "dtypes: float64(13), object(3)\n",
      "memory usage: 16.5+ MB\n",
      "None\n",
      "        City        Date   PM2.5    PM10    NO    NO2    NOx   NH3   CO  \\\n",
      "0  Amaravati  2017-11-25  104.00  148.50  1.93  23.00  13.75  9.80  0.1   \n",
      "1  Amaravati  2017-11-25   94.50  142.00  1.33  16.25   9.75  9.65  0.1   \n",
      "2  Amaravati  2017-11-25   82.75  126.50  1.47  14.83   9.07  9.70  0.1   \n",
      "3  Amaravati  2017-11-25   68.50  117.00  1.35  13.60   8.35  7.40  0.1   \n",
      "4  Amaravati  2017-11-25   69.25  112.25  1.52  11.80   7.55  9.25  0.1   \n",
      "\n",
      "     SO2      O3  Benzene  Toluene  Xylene    AQI AQI_Bucket  \n",
      "0  15.30  117.62     0.30    10.40    0.23  155.0   Moderate  \n",
      "1  17.00  136.23     0.28     7.10    0.15  159.0   Moderate  \n",
      "2  15.40  149.92     0.20     4.55    0.08  173.0   Moderate  \n",
      "3  21.80  161.70     0.10     2.30    0.00  191.0   Moderate  \n",
      "4  21.38  161.68     0.10     2.35    0.00  191.0   Moderate  \n"
     ]
    }
   ],
   "source": [
    "print(air_quailty.info())\n",
    "print(air_quailty.head())"
   ]
  },
  {
   "cell_type": "code",
   "execution_count": 11,
   "metadata": {},
   "outputs": [],
   "source": [
    "def swap_columns(df, col1, col2):\n",
    "    col_list = list(df.columns)\n",
    "    x, y = col_list.index(col1), col_list.index(col2)\n",
    "    col_list[y], col_list[x] = col_list[x], col_list[y]\n",
    "    df = df[col_list]\n",
    "    return df"
   ]
  },
  {
   "cell_type": "code",
   "execution_count": 14,
   "metadata": {},
   "outputs": [
    {
     "data": {
      "text/html": [
       "<div>\n",
       "<style scoped>\n",
       "    .dataframe tbody tr th:only-of-type {\n",
       "        vertical-align: middle;\n",
       "    }\n",
       "\n",
       "    .dataframe tbody tr th {\n",
       "        vertical-align: top;\n",
       "    }\n",
       "\n",
       "    .dataframe thead th {\n",
       "        text-align: right;\n",
       "    }\n",
       "</style>\n",
       "<table border=\"1\" class=\"dataframe\">\n",
       "  <thead>\n",
       "    <tr style=\"text-align: right;\">\n",
       "      <th></th>\n",
       "      <th>Date</th>\n",
       "      <th>City</th>\n",
       "      <th>PM2.5</th>\n",
       "      <th>PM10</th>\n",
       "      <th>NO</th>\n",
       "      <th>NO2</th>\n",
       "      <th>NOx</th>\n",
       "      <th>NH3</th>\n",
       "      <th>CO</th>\n",
       "      <th>SO2</th>\n",
       "      <th>O3</th>\n",
       "      <th>Benzene</th>\n",
       "      <th>Toluene</th>\n",
       "      <th>Xylene</th>\n",
       "      <th>AQI</th>\n",
       "      <th>AQI_Bucket</th>\n",
       "    </tr>\n",
       "  </thead>\n",
       "  <tbody>\n",
       "    <tr>\n",
       "      <th>0</th>\n",
       "      <td>2017-11-25</td>\n",
       "      <td>Amaravati</td>\n",
       "      <td>104.00</td>\n",
       "      <td>148.50</td>\n",
       "      <td>1.93</td>\n",
       "      <td>23.00</td>\n",
       "      <td>13.75</td>\n",
       "      <td>9.80</td>\n",
       "      <td>0.1</td>\n",
       "      <td>15.30</td>\n",
       "      <td>117.62</td>\n",
       "      <td>0.30</td>\n",
       "      <td>10.40</td>\n",
       "      <td>0.23</td>\n",
       "      <td>155.0</td>\n",
       "      <td>Moderate</td>\n",
       "    </tr>\n",
       "    <tr>\n",
       "      <th>1</th>\n",
       "      <td>2017-11-25</td>\n",
       "      <td>Amaravati</td>\n",
       "      <td>94.50</td>\n",
       "      <td>142.00</td>\n",
       "      <td>1.33</td>\n",
       "      <td>16.25</td>\n",
       "      <td>9.75</td>\n",
       "      <td>9.65</td>\n",
       "      <td>0.1</td>\n",
       "      <td>17.00</td>\n",
       "      <td>136.23</td>\n",
       "      <td>0.28</td>\n",
       "      <td>7.10</td>\n",
       "      <td>0.15</td>\n",
       "      <td>159.0</td>\n",
       "      <td>Moderate</td>\n",
       "    </tr>\n",
       "    <tr>\n",
       "      <th>2</th>\n",
       "      <td>2017-11-25</td>\n",
       "      <td>Amaravati</td>\n",
       "      <td>82.75</td>\n",
       "      <td>126.50</td>\n",
       "      <td>1.47</td>\n",
       "      <td>14.83</td>\n",
       "      <td>9.07</td>\n",
       "      <td>9.70</td>\n",
       "      <td>0.1</td>\n",
       "      <td>15.40</td>\n",
       "      <td>149.92</td>\n",
       "      <td>0.20</td>\n",
       "      <td>4.55</td>\n",
       "      <td>0.08</td>\n",
       "      <td>173.0</td>\n",
       "      <td>Moderate</td>\n",
       "    </tr>\n",
       "    <tr>\n",
       "      <th>3</th>\n",
       "      <td>2017-11-25</td>\n",
       "      <td>Amaravati</td>\n",
       "      <td>68.50</td>\n",
       "      <td>117.00</td>\n",
       "      <td>1.35</td>\n",
       "      <td>13.60</td>\n",
       "      <td>8.35</td>\n",
       "      <td>7.40</td>\n",
       "      <td>0.1</td>\n",
       "      <td>21.80</td>\n",
       "      <td>161.70</td>\n",
       "      <td>0.10</td>\n",
       "      <td>2.30</td>\n",
       "      <td>0.00</td>\n",
       "      <td>191.0</td>\n",
       "      <td>Moderate</td>\n",
       "    </tr>\n",
       "    <tr>\n",
       "      <th>4</th>\n",
       "      <td>2017-11-25</td>\n",
       "      <td>Amaravati</td>\n",
       "      <td>69.25</td>\n",
       "      <td>112.25</td>\n",
       "      <td>1.52</td>\n",
       "      <td>11.80</td>\n",
       "      <td>7.55</td>\n",
       "      <td>9.25</td>\n",
       "      <td>0.1</td>\n",
       "      <td>21.38</td>\n",
       "      <td>161.68</td>\n",
       "      <td>0.10</td>\n",
       "      <td>2.35</td>\n",
       "      <td>0.00</td>\n",
       "      <td>191.0</td>\n",
       "      <td>Moderate</td>\n",
       "    </tr>\n",
       "  </tbody>\n",
       "</table>\n",
       "</div>"
      ],
      "text/plain": [
       "         Date       City   PM2.5    PM10    NO    NO2    NOx   NH3   CO  \\\n",
       "0  2017-11-25  Amaravati  104.00  148.50  1.93  23.00  13.75  9.80  0.1   \n",
       "1  2017-11-25  Amaravati   94.50  142.00  1.33  16.25   9.75  9.65  0.1   \n",
       "2  2017-11-25  Amaravati   82.75  126.50  1.47  14.83   9.07  9.70  0.1   \n",
       "3  2017-11-25  Amaravati   68.50  117.00  1.35  13.60   8.35  7.40  0.1   \n",
       "4  2017-11-25  Amaravati   69.25  112.25  1.52  11.80   7.55  9.25  0.1   \n",
       "\n",
       "     SO2      O3  Benzene  Toluene  Xylene    AQI AQI_Bucket  \n",
       "0  15.30  117.62     0.30    10.40    0.23  155.0   Moderate  \n",
       "1  17.00  136.23     0.28     7.10    0.15  159.0   Moderate  \n",
       "2  15.40  149.92     0.20     4.55    0.08  173.0   Moderate  \n",
       "3  21.80  161.70     0.10     2.30    0.00  191.0   Moderate  \n",
       "4  21.38  161.68     0.10     2.35    0.00  191.0   Moderate  "
      ]
     },
     "execution_count": 14,
     "metadata": {},
     "output_type": "execute_result"
    }
   ],
   "source": [
    "air_quailty = swap_columns(air_quailty,\"Date\",\"City\")\n",
    "air_quailty.head()"
   ]
  },
  {
   "cell_type": "code",
   "execution_count": 19,
   "metadata": {},
   "outputs": [
    {
     "data": {
      "image/png": "[encoded data removed]",
      "text/plain": [
       "<Figure size 640x480 with 2 Axes>"
      ]
     },
     "metadata": {},
     "output_type": "display_data"
    }
   ],
   "source": [
    "data_num = air_quailty.select_dtypes(include=['float64','int64'])\n",
    "air_plot = sns.heatmap(data_num.corr())\n",
    "plt.show()"
   ]
  },
  {
   "cell_type": "code",
   "execution_count": null,
   "metadata": {},
   "outputs": [],
   "source": [
    "fig_1 = px.histogram(data,title = 'HistoGram of Pressure9am' , x = 'Pressure9am' ,marginal='box')\n",
    "sns.displot(data=data, x='Pressure9am', kde=True)\n",
    "\n",
    "fig_2_P9am.show()"
   ]
  }
 ],
 "metadata": {
  "kernelspec": {
   "display_name": "Python 3",
   "language": "python",
   "name": "python3"
  },
  "language_info": {
   "codemirror_mode": {
    "name": "ipython",
    "version": 3
   },
   "file_extension": ".py",
   "mimetype": "text/x-python",
   "name": "python",
   "nbconvert_exporter": "python",
   "pygments_lexer": "ipython3",
   "version": "3.10.11"
  }
 },
 "nbformat": 4,
 "nbformat_minor": 2
}
